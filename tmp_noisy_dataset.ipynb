{
 "cells": [
  {
   "cell_type": "markdown",
   "metadata": {},
   "source": [
    "Load a dataset with clean EEG data, add noise and save the noisy dataset"
   ]
  },
  {
   "cell_type": "code",
   "execution_count": null,
   "metadata": {},
   "outputs": [],
   "source": [
    "import matplotlib.pyplot as plt\n",
    "import numpy as np\n",
    "import torch \n",
    "from contrib.eeg import data, utils_eeg\n",
    "\n",
    "from pathlib import Path\n",
    "import json\n",
    "from scipy.io import loadmat, savemat\n",
    "import os"
   ]
  },
  {
   "cell_type": "code",
   "execution_count": 84,
   "metadata": {},
   "outputs": [
    {
     "name": "stdout",
     "output_type": "stream",
     "text": [
      "/home/reynaudsarah/Documents/Data/simulation/fsaverage/constrained/standard_1020/ico3/simu/_dl_ses_fsaverage_st1020_visu_/_dl_ses_fsaverage_st1020_visu_ico3_config.json\n",
      "dict_keys(['electrode_space', 'source_space', 'rec_info', 'ids'])\n"
     ]
    }
   ],
   "source": [
    "## parameters to load the data\n",
    "datafolder = \"/home/reynaudsarah/Documents/Data/simulation\"\n",
    "head_model = {\n",
    "    \"electrode_montage\": \"standard_1020\", \n",
    "    \"source_sampling\": \"ico3\", \n",
    "    \"subject_name\": \"fsaverage\", \n",
    "    \"orientation\": \"constrained\"\n",
    "}\n",
    "\n",
    "simu_name = \"_dl_ses_fsaverage_st1020_visu_\"\n",
    "# simu_name = \"ses_125ms_test\"\n",
    "to_load = 1000\n",
    "config_file = Path(\n",
    "    datafolder,\n",
    "    head_model['subject_name'], head_model['orientation'], head_model['electrode_montage'], head_model['source_sampling'], \"simu\",\n",
    "    simu_name, f\"{simu_name}{head_model['source_sampling']}_config.json\"\n",
    "            )\n",
    "print(config_file)\n",
    "with open(config_file) as f : \n",
    "    config_dict = json.load(f)\n",
    "print(config_dict.keys())"
   ]
  },
  {
   "cell_type": "code",
   "execution_count": null,
   "metadata": {},
   "outputs": [
    {
     "name": "stdout",
     "output_type": "stream",
     "text": [
      "/home/reynaudsarah/Documents/Data/simulation/fsaverage/constrained/standard_1020/ico3/simu\n",
      "dict_keys(['act_src_file_name', 'noise_src_file_name', 'eeg_file_name', 'md_json_file_name'])\n"
     ]
    }
   ],
   "source": [
    "simu_path = Path(  \n",
    "    datafolder, head_model['subject_name'], head_model['orientation'], head_model['electrode_montage'] ,head_model['source_sampling'], \"simu\"\n",
    "    )\n",
    "print(simu_path)\n",
    "info_file = Path( simu_path, simu_name ,f\"{simu_name}{head_model['source_sampling']}_match_json_file.json\" )\n",
    "with open(info_file) as f : \n",
    "    match_info_dict = json.load(f)\n",
    "\n",
    "data_ids = np.array( \n",
    "    list( match_info_dict.keys() )\n",
    "    )\n",
    "print(match_info_dict['id_1'].keys())\n",
    "n_samples = len(data_ids)"
   ]
  },
  {
   "cell_type": "code",
   "execution_count": 88,
   "metadata": {},
   "outputs": [],
   "source": [
    "snr = 5"
   ]
  },
  {
   "cell_type": "code",
   "execution_count": 89,
   "metadata": {},
   "outputs": [
    {
     "data": {
      "text/plain": [
       "PosixPath('/home/reynaudsarah/Documents/Data/simulation/fsaverage/constrained/standard_1020/ico3/simu')"
      ]
     },
     "execution_count": 89,
     "metadata": {},
     "output_type": "execute_result"
    }
   ],
   "source": [
    "simu_path"
   ]
  },
  {
   "cell_type": "code",
   "execution_count": 90,
   "metadata": {},
   "outputs": [
    {
     "data": {
      "text/plain": [
       "100"
      ]
     },
     "execution_count": 90,
     "metadata": {},
     "output_type": "execute_result"
    }
   ],
   "source": [
    "n_samples"
   ]
  },
  {
   "cell_type": "code",
   "execution_count": 91,
   "metadata": {},
   "outputs": [],
   "source": [
    "for i in range(n_samples): \n",
    "    # load\n",
    "    path_eeg = utils_eeg.replace_root_fn( simu_path, simu_name, match_info_dict[data_ids[i]]['eeg_file_name'])\n",
    "    eeg = utils_eeg.load_mat( str(path_eeg) )['eeg_data']['EEG']\n",
    "    # add noise to SNR\n",
    "    inf = np.min(eeg)\n",
    "    sup = np.max(eeg)\n",
    "    if snr < 50:\n",
    "        eeg_noise = utils_eeg.array_range_scaling(\n",
    "                utils_eeg.add_noise_snr( snr,eeg ), inf, sup\n",
    "            ) \n",
    "    # visu to check range of data remains the same\n",
    "    # plt.figure()\n",
    "    # plt.subplot(121)\n",
    "    # for e in range(eeg.shape[0]): \n",
    "    #     plt.plot(eeg[e,:])\n",
    "    # plt.subplot(122)\n",
    "    # for e in range(eeg.shape[0]): \n",
    "    #     plt.plot(eeg_noise[e,:])\n",
    "\n",
    "    # save file\n",
    "    to_save = {\n",
    "        \"eeg_data\": {\n",
    "            \"EEG\": eeg_noise\n",
    "        }\n",
    "    }\n",
    "    save_path = Path( simu_path, simu_name, 'eeg', f'{snr}db' )\n",
    "    os.makedirs(save_path, exist_ok=True)\n",
    "    save_file = Path( save_path, f\"{data_ids[i].split('_')[-1]}_eeg.mat\")\n",
    "    savemat(save_file, to_save)"
   ]
  },
  {
   "cell_type": "code",
   "execution_count": 92,
   "metadata": {},
   "outputs": [
    {
     "data": {
      "text/plain": [
       "{'act_src_file_name': '/home/reynaudsarah/Documents/Data/simulation/constrained/standard_1020/ico3/simu/_dl_ses_fsaverage_st1020_visu_/sources/Jact/6_src_act.mat',\n",
       " 'noise_src_file_name': '/home/reynaudsarah/Documents/Data/simulation/constrained/standard_1020/ico3/simu/_dl_ses_fsaverage_st1020_visu_/sources/Jnoise/6_src_noise.mat',\n",
       " 'eeg_file_name': '/home/reynaudsarah/Documents/Data/simulation/constrained/standard_1020/ico3/simu/_dl_ses_fsaverage_st1020_visu_/eeg/infdb/6_eeg.mat',\n",
       " 'md_json_file_name': '/home/reynaudsarah/Documents/Data/simulation/constrained/standard_1020/ico3/simu/_dl_ses_fsaverage_st1020_visu_/md/6_md_json_flie.json'}"
      ]
     },
     "execution_count": 92,
     "metadata": {},
     "output_type": "execute_result"
    }
   ],
   "source": [
    "match_info_dict[data_ids[5]]"
   ]
  },
  {
   "cell_type": "code",
   "execution_count": 93,
   "metadata": {},
   "outputs": [],
   "source": [
    "# chemin: \n",
    "# datafolder, subject_name, orientation, electrode_montage, source_sampling, \"simu\", simu_name, \"eeg\", f\"{snr}db\", f\"{data_ids[i].split('_')[-1]}_eeg.mat\""
   ]
  }
 ],
 "metadata": {
  "kernelspec": {
   "display_name": "4dvarnet-mne",
   "language": "python",
   "name": "python3"
  },
  "language_info": {
   "codemirror_mode": {
    "name": "ipython",
    "version": 3
   },
   "file_extension": ".py",
   "mimetype": "text/x-python",
   "name": "python",
   "nbconvert_exporter": "python",
   "pygments_lexer": "ipython3",
   "version": "3.11.7"
  }
 },
 "nbformat": 4,
 "nbformat_minor": 2
}
